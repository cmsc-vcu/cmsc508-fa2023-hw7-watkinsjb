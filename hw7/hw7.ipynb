{
  "cells": [
    {
      "cell_type": "raw",
      "metadata": {},
      "source": [
        "---\n",
        "title: Homework 7 - Creating a resume database\n",
        "author: Jack Watkins\n",
        "date: Dec 12 2023\n",
        "format:\n",
        "    html:\n",
        "        theme: cosmo\n",
        "        toc: true\n",
        "        embed-resources: true\n",
        "        code-copy: true\n",
        "---"
      ],
      "id": "7fb36af0"
    },
    {
      "cell_type": "markdown",
      "metadata": {},
      "source": [
        "This document outlines the implementation of a resume database using Python, SQL, and the SQLAlchemy library. \n",
        "Tthe program establishes a connection to a MySQL database, performs basic tests, and presents a Crows-foot diagram \n",
        "illustrating the relationships between the CUSTOMER, ORDER, and DELIVERY-ADDRESS entities.\n",
        "\n",
        "\n",
        "GITHUB URL:  https://github.com/cmsc-vcu/cmsc508-fa2023-hw7-watkinsjb\n"
      ],
      "id": "491a8ea9"
    },
    {
      "cell_type": "code",
      "metadata": {},
      "source": [
        "#| eval: true\n",
        "#| echo: false\n",
        "import os\n",
        "import sys\n",
        "import pandas as pd\n",
        "from tabulate import tabulate\n",
        "from dotenv import load_dotenv\n",
        "from sqlalchemy import create_engine, text\n",
        "from sqlalchemy.exc import OperationalError, ProgrammingError\n",
        "from IPython.display import display, Markdown"
      ],
      "id": "e91cc7d4",
      "execution_count": null,
      "outputs": []
    },
    {
      "cell_type": "code",
      "metadata": {},
      "source": [
        "#| eval: true\n",
        "#| echo: false\n",
        "\n",
        "# modify config_map to reflect credentials needed by this program\n",
        "config_map = {\n",
        "    'user':'CMSC508_USER',\n",
        "    'password':'CMSC508_PASSWORD',\n",
        "    'host':'CMSC508_HOST',\n",
        "    'database':'HW7_DB_NAME'\n",
        "}\n",
        "# load and store credentials\n",
        "load_dotenv()\n",
        "config = {}\n",
        "for key in config_map.keys():\n",
        "    config[key] = os.getenv(config_map[key])\n",
        "flag = False\n",
        "for param in config.keys():\n",
        "    if config[param] is None:\n",
        "        flag = True\n",
        "        print(f\"Missing {config_map[param]} in .env file\")\n",
        "#if flag:\n",
        "#    sys.exit(1)"
      ],
      "id": "f2471307",
      "execution_count": null,
      "outputs": []
    },
    {
      "cell_type": "code",
      "metadata": {},
      "source": [
        "#| eval: true\n",
        "#| echo: false\n",
        "\n",
        "# build a sqlalchemy engine string\n",
        "engine_uri = f\"mysql+pymysql://{config['user']}:{config['password']}@{config['host']}/{config['database']}\"\n",
        "\n",
        "# create a database connection.  THIS IS THE ACTUAL CONNECTION!\n",
        "try:\n",
        "    cnx = create_engine(engine_uri)\n",
        "except ArgumentError as e:\n",
        "    print(f\"create_engine: Argument Error: {e}\")\n",
        "    #sys.exit(1)\n",
        "except NoSuchModuleError as e:\n",
        "    print(f\"create_engine: No Such Module Error: {e}\")\n",
        "    #sys.exit(1)\n",
        "except Exception as e:\n",
        "    print(f\"create_engine: An error occurred: {e}\")\n",
        "    #sys.exit(1)"
      ],
      "id": "4e77423b",
      "execution_count": null,
      "outputs": []
    },
    {
      "cell_type": "code",
      "metadata": {},
      "source": [
        "#| echo: false\n",
        "#| eval: true\n",
        "\n",
        "# Do a quick test of the connection and trap the errors better!\n",
        "try:\n",
        "    databases = pd.read_sql(\"show databases\",cnx)\n",
        "except ImportError as e:\n",
        "    print(f\"Error: {e}\")\n",
        "except OperationalError as e:\n",
        "    print(f\"Database/SQL Error:\\n{str(e)}\\n\")\n",
        "except ProgrammingError as e:\n",
        "    print(f\"Programming Error:\\n{str(e)}\\n\")\n",
        "except Exception as e:\n",
        "    print(f\"An error occurred:\\n{str(e)}\\n\")"
      ],
      "id": "bb141133",
      "execution_count": null,
      "outputs": []
    },
    {
      "cell_type": "markdown",
      "metadata": {},
      "source": [
        "## Overview and description\n",
        "\n",
        "(briefly describe the project and the database)\n",
        "\n",
        "## Crows-foot diagram\n",
        "\n",
        "This Crows-foot notation diagram illustrates the relationships between \n",
        "entities in a database model. The main entities depicted are CUSTOMER, \n",
        "ORDER, and DELIVERY-ADDRESS. \n",
        "\n",
        "- CUSTOMER and ORDER is a one to many relationship\n",
        "- CUSTOMER and DELIVERY ADRESS is a one to one relationship.\n",
        "\n",
        "\n",
        "```{mermaid}\n",
        "%%| echo: false\n",
        "erDiagram\n",
        "    CUSTOMER ||--o{ ORDER : places\n",
        "    CUSTOMER }|..|{ DELIVERY-ADDRESS : uses\n",
        "    CUSTOMER{\n",
        "        int id\n",
        "        string first_name\n",
        "        string last_name\n",
        "    }\n",
        "    DELIVERY-ADDRESS {\n",
        "        int id\n",
        "    }\n",
        "```\n",
        "\n",
        "\n",
        "## Examples of data in the database\n",
        "\n",
        "For the people, skills, and roles tables, provide a description of each table and it's contents. Then provide a listing of the entire table.\n",
        "\n",
        "### People table\n",
        "\n",
        "The *people* table contains elements that describe ... \n",
        "\n",
        "Below is a list of data in the *people* table.\n"
      ],
      "id": "f49d6a35"
    },
    {
      "cell_type": "code",
      "metadata": {},
      "source": [
        "#| echo: false\n",
        "#| eval: true\n",
        "sql = f\"\"\"\n",
        "select * from people;\n",
        "\"\"\"\n",
        "## Add code to list roles table here\n",
        "try:\n",
        "    df = pd.read_sql(sql,cnx)\n",
        "    df\n",
        "except Exception as e:\n",
        "    message = str(e)\n",
        "    print(f\"An error occurred:\\n\\n{message}\\n\\nIgnoring and moving on.\")\n",
        "    df = pd.DataFrame()\n",
        "df"
      ],
      "id": "7a09dd04",
      "execution_count": null,
      "outputs": []
    },
    {
      "cell_type": "markdown",
      "metadata": {},
      "source": [
        "### Skills table\n",
        "\n",
        "The *skills* table contains elements that describe ... \n",
        "\n",
        "Below is a list of data in the *skills* table.\n"
      ],
      "id": "758bd9c2"
    },
    {
      "cell_type": "code",
      "metadata": {},
      "source": [
        "#| echo: false\n",
        "#| eval: true\n",
        "\n",
        "try:\n",
        "    df = pd.read_sql(sql,cnx)\n",
        "    df\n",
        "except Exception as e:\n",
        "    message = str(e)\n",
        "    print(f\"An error occurred:\\n\\n{message}\\n\\nIgnoring and moving on.\")\n",
        "    df = pd.DataFrame()\n",
        "df"
      ],
      "id": "4cf4f263",
      "execution_count": null,
      "outputs": []
    },
    {
      "cell_type": "markdown",
      "metadata": {},
      "source": [
        "### Roles table\n",
        "\n",
        "The *roles* table contains elements that describe ... \n",
        "\n",
        "Below is a list of data in the *roles* table.\n"
      ],
      "id": "bccf3142"
    },
    {
      "cell_type": "code",
      "metadata": {},
      "source": [
        "#| echo: false\n",
        "#| eval: true\n",
        "\n",
        "try:\n",
        "    df = pd.read_sql(sql,cnx)\n",
        "    df\n",
        "except Exception as e:\n",
        "    message = str(e)\n",
        "    print(f\"An error occurred:\\n\\n{message}\\n\\nIgnoring and moving on.\")\n",
        "    df = pd.DataFrame()\n",
        "df"
      ],
      "id": "51298f50",
      "execution_count": null,
      "outputs": []
    },
    {
      "cell_type": "markdown",
      "metadata": {},
      "source": [
        "## Sample queries\n",
        "\n",
        "Let's explore the database!\n",
        "\n",
        "# List skill names, tags, and descriptions ordered by name\n"
      ],
      "id": "b83b05d5"
    },
    {
      "cell_type": "code",
      "metadata": {},
      "source": [
        "sql = f\"\"\"\n",
        "select * from people\n",
        "\"\"\"\n",
        "try:\n",
        "    df = pd.read_sql(sql,cnx)\n",
        "    df\n",
        "except Exception as e:\n",
        "    message = str(e)\n",
        "    print(f\"An error occurred:\\n\\n{message}\\n\\nIgnoring and moving on.\")\n",
        "    df = pd.DataFrame()\n",
        "df"
      ],
      "id": "b1ad726d",
      "execution_count": null,
      "outputs": []
    },
    {
      "cell_type": "code",
      "metadata": {},
      "source": [
        "#| echo: false\n",
        "#| eval: true\n",
        "try:\n",
        "    df = pd.read_sql(sql,cnx)\n",
        "    df\n",
        "except Exception as e:\n",
        "    message = str(e)\n",
        "    print(f\"An error occurred:\\n\\n{message}\\n\\nIgnoring and moving on.\")\n",
        "    df = pd.DataFrame()\n",
        "df"
      ],
      "id": "3ef87e7c",
      "execution_count": null,
      "outputs": []
    },
    {
      "cell_type": "markdown",
      "metadata": {},
      "source": [
        "### List people names and email addresses ordered by last_name\n"
      ],
      "id": "815aa4a6"
    },
    {
      "cell_type": "code",
      "metadata": {},
      "source": [
        "#| echo: false\n",
        "#| eval: true\n",
        "sql = f\"\"\"\n",
        "SELECT first_name, last_name, email\n",
        "FROM people\n",
        "ORDER BY last_name ASC;\n",
        "\"\"\"\n",
        "try:\n",
        "    df = pd.read_sql(sql,cnx)\n",
        "    df\n",
        "except Exception as e:\n",
        "    message = str(e)\n",
        "    print(f\"An error occurred:\\n\\n{message}\\n\\nIgnoring and moving on.\")\n",
        "    df = pd.DataFrame()\n",
        "df"
      ],
      "id": "79b03871",
      "execution_count": null,
      "outputs": []
    },
    {
      "cell_type": "markdown",
      "metadata": {},
      "source": [
        "### List skill names of Person 1\n"
      ],
      "id": "e4edcf96"
    },
    {
      "cell_type": "code",
      "metadata": {},
      "source": [
        "#| echo: false\n",
        "#| eval: true\n",
        "sql = f\"\"\"\n",
        "SELECT s.skills_name\n",
        "FROM skills s\n",
        "JOIN peopleskills ps ON s.skills_id = ps.skills_id\n",
        "WHERE ps.people_id = 1;\n",
        "\"\"\"\n",
        "try:\n",
        "    df = pd.read_sql(sql,cnx)\n",
        "    df\n",
        "except Exception as e:\n",
        "    message = str(e)\n",
        "    print(f\"An error occurred:\\n\\n{message}\\n\\nIgnoring and moving on.\")\n",
        "    df = pd.DataFrame()\n",
        "df"
      ],
      "id": "4283fde1",
      "execution_count": null,
      "outputs": []
    },
    {
      "cell_type": "markdown",
      "metadata": {},
      "source": [
        "### List people names with Skill 6\n"
      ],
      "id": "90cc98e7"
    },
    {
      "cell_type": "code",
      "metadata": {},
      "source": [
        "#| echo: false\n",
        "#| eval: true\n",
        "sql = f\"\"\"\n",
        "SELECT p.first_name, p.last_name\n",
        "FROM people p\n",
        "JOIN peopleskills ps ON p.people_id = ps.people_id\n",
        "WHERE ps.skills_id = 6;\n",
        "\"\"\"\n",
        "try:\n",
        "    df = pd.read_sql(sql,cnx)\n",
        "    df\n",
        "except Exception as e:\n",
        "    message = str(e)\n",
        "    print(f\"An error occurred:\\n\\n{message}\\n\\nIgnoring and moving on.\")\n",
        "    df = pd.DataFrame()\n",
        "df"
      ],
      "id": "1ca2e614",
      "execution_count": null,
      "outputs": []
    },
    {
      "cell_type": "markdown",
      "metadata": {},
      "source": [
        "### List people with a DEVELOPER role\n"
      ],
      "id": "9c79f788"
    },
    {
      "cell_type": "code",
      "metadata": {},
      "source": [
        "#| echo: false\n",
        "#| eval: true\n",
        "sql = f\"\"\"\n",
        "SELECT p.first_name, p.last_name\n",
        "FROM people p\n",
        "JOIN peopleroles pr ON p.people_id = pr.people_id\n",
        "JOIN roles r ON pr.role_id = r.roles_id\n",
        "WHERE r.roles_name = 'Developer';\n",
        "\"\"\"\n",
        "try:\n",
        "    df = pd.read_sql(sql,cnx)\n",
        "    df\n",
        "except Exception as e:\n",
        "    message = str(e)\n",
        "    print(f\"An error occurred:\\n\\n{message}\\n\\nIgnoring and moving on.\")\n",
        "    df = pd.DataFrame()\n",
        "df"
      ],
      "id": "ee19a21f",
      "execution_count": null,
      "outputs": []
    },
    {
      "cell_type": "markdown",
      "metadata": {},
      "source": [
        "### List names and email addresses of people without skills\n"
      ],
      "id": "32211772"
    },
    {
      "cell_type": "code",
      "metadata": {},
      "source": [
        "#| echo: false\n",
        "#| eval: true\n",
        "sql = f\"\"\"\n",
        "SELECT p.first_name, p.last_name, p.email\n",
        "FROM people p\n",
        "LEFT JOIN peopleskills ps ON p.people_id = ps.people_id\n",
        "WHERE ps.skills_id IS NULL;\n",
        "\"\"\"\n",
        "try:\n",
        "    df = pd.read_sql(sql,cnx)\n",
        "    df\n",
        "except Exception as e:\n",
        "    message = str(e)\n",
        "    print(f\"An error occurred:\\n\\n{message}\\n\\nIgnoring and moving on.\")\n",
        "    df = pd.DataFrame()\n",
        "df"
      ],
      "id": "2f2c84b0",
      "execution_count": null,
      "outputs": []
    },
    {
      "cell_type": "markdown",
      "metadata": {},
      "source": [
        "### List names and tags of unused skills\n"
      ],
      "id": "00f4fbd2"
    },
    {
      "cell_type": "code",
      "metadata": {},
      "source": [
        "#| echo: false\n",
        "#| eval: true\n",
        "sql = f\"\"\"\n",
        "SELECT s.skills_name, s.skills_tag\n",
        "FROM skills s\n",
        "LEFT JOIN peopleskills ps ON s.skills_id = ps.skills_id\n",
        "WHERE ps.people_id IS NULL;\n",
        "\"\"\"\n",
        "try:\n",
        "    df = pd.read_sql(sql,cnx)\n",
        "    df\n",
        "except Exception as e:\n",
        "    message = str(e)\n",
        "    print(f\"An error occurred:\\n\\n{message}\\n\\nIgnoring and moving on.\")\n",
        "    df = pd.DataFrame()\n",
        "df"
      ],
      "id": "0817083b",
      "execution_count": null,
      "outputs": []
    },
    {
      "cell_type": "markdown",
      "metadata": {},
      "source": [
        "### List people names and skill names with the BOSS role\n"
      ],
      "id": "770315a1"
    },
    {
      "cell_type": "code",
      "metadata": {},
      "source": [
        "#| echo: false\n",
        "#| eval: true\n",
        "sql = f\"\"\"\n",
        "SELECT DISTINCT p.first_name, p.last_name, s.skills_name\n",
        "FROM people p\n",
        "JOIN peopleroles pr ON p.people_id = pr.people_id\n",
        "JOIN roles r ON pr.role_id = r.roles_id AND r.roles_name = 'Boss'\n",
        "LEFT JOIN peopleskills ps ON p.people_id = ps.people_id\n",
        "LEFT JOIN skills s ON ps.skills_id = s.skills_id;\n",
        "\"\"\"\n",
        "try:\n",
        "    df = pd.read_sql(sql,cnx)\n",
        "    df\n",
        "except Exception as e:\n",
        "    message = str(e)\n",
        "    print(f\"An error occurred:\\n\\n{message}\\n\\nIgnoring and moving on.\")\n",
        "    df = pd.DataFrame()\n",
        "df"
      ],
      "id": "03cf34a4",
      "execution_count": null,
      "outputs": []
    },
    {
      "cell_type": "markdown",
      "metadata": {},
      "source": [
        "### List ids and names of unused roles\n"
      ],
      "id": "9929ff5a"
    },
    {
      "cell_type": "code",
      "metadata": {},
      "source": [
        "#| echo: false\n",
        "#| eval: true\n",
        "sql = f\"\"\"\n",
        "SELECT r.roles_id, r.roles_name\n",
        "FROM roles r\n",
        "LEFT JOIN peopleroles pr ON r.roles_id = pr.role_id\n",
        "WHERE pr.people_id IS NULL;\n",
        "\"\"\"\n",
        "try:\n",
        "    df = pd.read_sql(sql,cnx)\n",
        "    df\n",
        "except Exception as e:\n",
        "    message = str(e)\n",
        "    print(f\"An error occurred:\\n\\n{message}\\n\\nIgnoring and moving on.\")\n",
        "    df = pd.DataFrame()\n",
        "df"
      ],
      "id": "857f4138",
      "execution_count": null,
      "outputs": []
    },
    {
      "cell_type": "markdown",
      "metadata": {},
      "source": [
        "## Reflection\n",
        "\n",
        "I enjoyed this assignment because it gave a practical view of applications of relationship database theory, connecting theoretical concepts with real-world data challenges. It helped me develop an understanding of why adherence to database principles is important, it makes the development of the database easier to do and understand. \n"
      ],
      "id": "b2f7211f"
    }
  ],
  "metadata": {
    "kernelspec": {
      "display_name": "Python 3",
      "language": "python",
      "name": "python3"
    }
  },
  "nbformat": 4,
  "nbformat_minor": 5
}